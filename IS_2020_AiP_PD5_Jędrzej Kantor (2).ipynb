{
 "cells": [
  {
   "cell_type": "code",
   "execution_count": null,
   "metadata": {
    "id": "VW9q74Afb00Z"
   },
   "outputs": [],
   "source": [
    "## IS 2020 Algorytmy i programowanie\n",
    "### Praca domowa 05 [100 pkt]\n",
    "\n",
    "### Programowanie obiektowe"
   ]
  },
  {
   "cell_type": "markdown",
   "metadata": {
    "id": "gK00_4J3b00c"
   },
   "source": [
    "### Zadanie 1 [75]\n",
    "\n",
    "Twój kolega ma spory zbiór płyt muzycznych. Chce je uporządkować. Poprosił Ciebie, abyś napisał mu program, który pozwoli mu zarządzad tym zbiorem, czyli taką bazę płyt. O każdej płycie chce posiadad następujące informacje:\n",
    "\n",
    "    - tytuł płyty\n",
    "    - typ płyty (czy płyta DVD czy CD)\n",
    "    - czas trwania płyty\n",
    "    - spis utworów znajdujących się na każdej płycie\n",
    "    - spis wykonawców, którzy wykonują utwory na danej płycie\n",
    "    - numer płyty (identyfikator płyty nadany przez kolegę)\n",
    "    \n",
    "O każdym utworze kolega chce wiedzieć:\n",
    "\n",
    "    - tytuł utworu\n",
    "    - czas trwania utworu\n",
    "    - spis wykonawców, którzy wykonują dany utwór na danej płycie\n",
    "    - kompozytora danego utworu\n",
    "    -numer utworu na płycie\n",
    "    \n",
    "Program powinien umożliwiać:\n",
    "\n",
    "    - dodanie płyty do bazy danych\n",
    "    - wyświetlenie wszystkich płyt znajdujących się w bazie danych (same tytuły płyt)\n",
    "    - wyświetlenie szczegółowej informacji na temat płyty (tytuł płyty, typ płyty, czas trwania płyty, spis tytułów utworów znajdujących się na płycie z podanym numerem utworu na płycie)\n",
    "    - wyświetlenie wykonawców, którzy wykonują utwory na danej płycie\n",
    "    - wyświetlenie szczegółowej informacji na temat wybranego utworu z danej płyty (tytuł\n",
    "    utworu, czas trwania utworu, spis wykonawców którzy wykonują dany utwór, kompozytora\n",
    "    danego utworu)\n",
    "    - zapisać bazę do pliku (pickle)\n",
    "    - odczytać bazę z pliku"
   ]
  },
  {
   "cell_type": "code",
   "execution_count": 8,
   "metadata": {
    "colab": {
     "base_uri": "https://localhost:8080/"
    },
    "id": "jq_WFzaudOQu",
    "outputId": "9e19dfcb-876f-467d-97c2-e31e3fa493ac"
   },
   "outputs": [
    {
     "name": "stdout",
     "output_type": "stream",
     "text": [
      "Opowiesci z Narnii,180,C.S.Lewis,3\n",
      "420\n",
      "Plyta niska,CD,210,['Powinnam?'],['Natalia Szroeder'],1\n",
      "[<__main__.Plyta object at 0x7fa00c3accc0>, <__main__.Plyta object at 0x7fa00c39f048>]\n",
      "Szukany tytul znajduje sie na plycie: Plyta skoczka, typ: CD, czas plyty 420, a sam utwór to: \n",
      "Tytuł: Młody koń\n",
      "Wykonawca: Mariusz Kania\n",
      "Nr.na płycie: 2\n"
     ]
    }
   ],
   "source": [
    "import copy\n",
    "import pickle\n",
    "class Plyta:\n",
    "    \n",
    "    def __init__(self,tytul=\" \",typ=\"CD\",czas=0,spis_utworow=[],spis_wykonawcow=[],spis_ID=[],ID=0):\n",
    "    \n",
    "        self.tytul = tytul\n",
    "        self.typ = typ\n",
    "        self.czas = czas\n",
    "        self.spis_utworow =copy.deepcopy(spis_utworow)\n",
    "        self.spis_wykonawcow =copy.deepcopy(spis_wykonawcow)\n",
    "        self.ID = ID\n",
    "        self.spis_ID=spis_ID\n",
    "        \n",
    "        \n",
    "    def __str__(self):\n",
    "        return f\"{self.tytul},{self.typ},{self.czas},{self.spis_utworow},{self.spis_wykonawcow},{self.ID}\"\n",
    "    \n",
    "    def dodaj(self,utwor):\n",
    "        self.spis_utworow.append(utwor.tytul)\n",
    "        self.spis_wykonawcow.append(utwor.wykonawcy)\n",
    "        self.czas += utwor.czas\n",
    "        self.spis_ID=copy.deepcopy(len(self.spis_utworow))\n",
    "        utwor.nr=(len(self.spis_utworow))\n",
    "        self.ID=(len(self.spis_utworow))\n",
    "        \n",
    "class Utwor:\n",
    "    \n",
    "    def __init__(self,tytul=\" \",czas=0,wykonawcy=[],nr=0):\n",
    "    \n",
    "        self.tytul = tytul\n",
    "        self.czas = czas\n",
    "        self.wykonawcy = wykonawcy\n",
    "        self.nr = nr\n",
    "        \n",
    "    def __str__(self):\n",
    "        return f\"{self.tytul},{self.czas},{self.wykonawcy},{self.nr}\"\n",
    "    \n",
    "    \n",
    "baza=[]\n",
    "def dodaj_plyta(plyta):\n",
    "    baza.append(plyta)\n",
    "\n",
    "def wys_all(baza):\n",
    "    i=0\n",
    "    while i <len(baza):\n",
    "        i+=1\n",
    "        return baza[i]\n",
    "    \n",
    "def szczegol_tytul(base,szukany):\n",
    "    for x in base:\n",
    "        for i in range(len(x.spis_utworow)):\n",
    "            if x.spis_utworow[i] == szukany:\n",
    "                return f'Szukany tytul znajduje sie na plycie: {x.tytul}, typ: {x.typ}, czas plyty {x.czas}, a sam utwór to: \\nTytuł: {x.spis_utworow[i]}\\nWykonawca: {x.spis_wykonawcow[i]}\\nNr.na płycie: {i+1}'\n",
    "    return \"brak tytulu na plycie\"\n",
    "    \n",
    "def zapis(baza):\n",
    "    with open(\"nowa_baza.txt\", 'wb') as f:\n",
    "        p=pickle.Pickler(f)\n",
    "        p.dump(baza)\n",
    "    \n",
    "    \n",
    "\n",
    "plyta1 = Plyta('Plyta skoczka',\"CD\")\n",
    "plyta2 = Plyta('Plyta niska')\n",
    "# print(plyta1)\n",
    "utwor1 = Utwor(\"Opowiesci z Narnii\",180,\"C.S.Lewis\",3)\n",
    "utwor2 = Utwor(\"Młody koń\",240,\"Mariusz Kania\",2)\n",
    "utwor3 = Utwor('Powinnam?',210,'Natalia Szroeder')\n",
    "print(utwor1)\n",
    "plyta1.dodaj(utwor1)\n",
    "plyta1.dodaj(utwor2)\n",
    "plyta2.dodaj(utwor3)\n",
    "# print(utwor2.nr)\n",
    "print(plyta1.czas)\n",
    "# print(plyta1.spis_utworow)\n",
    "# print(plyta1.czas)\n",
    "# print(plyta1.spis_wykonawcow)\n",
    "# print(plyta1)\n",
    "# print(plyta2)\n",
    "dodaj_plyta(plyta1)\n",
    "dodaj_plyta(plyta2)\n",
    "# print(baza[0].spis_utworow)\n",
    "# print(plyta2.spis_wykonawcow)\n",
    "# print(plyta1.spis_ID[0])\n",
    "print(wys_all(baza))\n",
    "zapis(baza)\n",
    "nowa_baza = pickle.load(open(\"nowa_baza.txt\", \"rb\"))\n",
    "print(nowa_baza)\n",
    "\n",
    "# print(plyta1.spis_ID)\n",
    "# print(szczegol_tytul(baza,\"Młody koń\"))\n",
    "print(szczegol_tytul(nowa_baza,\"Młody koń\"))"
   ]
  },
  {
   "cell_type": "code",
   "execution_count": 3,
   "metadata": {
    "id": "V82RWfzxykjW"
   },
   "outputs": [
    {
     "name": "stdout",
     "output_type": "stream",
     "text": [
      "tytuł utworu: Powinnam?\n",
      "czas utworu: 3:37\n",
      "czas wykonawcy: Natalia Szroeder\n",
      "kompozytor: Natalia Szroeder\n",
      "numer na płycie: 1\n"
     ]
    }
   ],
   "source": [
    "class utwory:\n",
    "    def __init__(self,tytulu,czasu,wykonawcyu,kompozytor,numeru):\n",
    "        self.tytulu=tytulu\n",
    "        self.czasu=czasu\n",
    "        self.wykonawcyu=wykonawcyu\n",
    "        self.kompozytor=kompozytor\n",
    "        self.numeru=numeru\n",
    "    def __str__(self):\n",
    "        return f'tytuł utworu: {self.tytulu}' + f'\\nczas utworu: {self.czasu}' + f'\\nczas wykonawcy: {self.wykonawcyu}' + f'\\nkompozytor: {self.kompozytor}' + f'\\nnumer na płycie: {self.numeru}'\n",
    "u1=utwory('Powinnam?','3:37','Natalia Szroeder','Natalia Szroeder','1')\n",
    "print(u1.__str__())"
   ]
  },
  {
   "cell_type": "code",
   "execution_count": 4,
   "metadata": {
    "colab": {
     "base_uri": "https://localhost:8080/"
    },
    "id": "FozXGhzxONEf",
    "outputId": "edbdf293-ff4e-4dda-ae9b-9699e1d6ff3b"
   },
   "outputs": [
    {
     "name": "stdout",
     "output_type": "stream",
     "text": [
      "<class 'str'>\n",
      "Jestem str <class 'str'>\n"
     ]
    }
   ],
   "source": [
    "a = '5'\n",
    "print(type(a))\n",
    "if a != int:\n",
    "  print('Jestem str',type(a))\n",
    "else:\n",
    "  print('Nie jestem str',type(a))\n",
    "\n"
   ]
  },
  {
   "cell_type": "code",
   "execution_count": null,
   "metadata": {
    "id": "ATrd9LXMYvoy"
   },
   "outputs": [],
   "source": []
  },
  {
   "cell_type": "code",
   "execution_count": null,
   "metadata": {
    "colab": {
     "base_uri": "https://localhost:8080/",
     "height": 231
    },
    "id": "-B3Hp615l8BN",
    "outputId": "2e54960b-1f09-4fac-a867-181a8c8484c6"
   },
   "outputs": [],
   "source": []
  },
  {
   "cell_type": "markdown",
   "metadata": {
    "id": "bTv8pWN_b00e"
   },
   "source": [
    "### Zadanie 2 [25]\n",
    "Zaimplementuj klasę: automatyczna skrzynia biegów. Klasa ma tylko dwa pola prędkość i bieg. Funkcjonalność:\n",
    "\n",
    "    - zwiększ prędkość\n",
    "    - zmninejsz prędkość\n",
    "    - wyświetl prędkość\n",
    "    - wyświetl numer biegu\n",
    "    - bieg wsteczny\n",
    "    \n",
    "Zakładamy\n",
    "\n",
    "    - że zmiana biegu następuje wraz ze zmianą prędkości (inne czynniki pomijamy).  \n",
    "    - zmiana na bieg wsteczny lub z biegu wstecznego  jest możliwa po zatrzymaniu pojadu i zmianie ręcznej (do tyłu - do przodu).\n",
    "    \n",
    "    "
   ]
  },
  {
   "cell_type": "code",
   "execution_count": 2,
   "metadata": {
    "colab": {
     "base_uri": "https://localhost:8080/"
    },
    "id": "beU8CeQ3b00e",
    "outputId": "34fcd10c-2e02-4516-ec78-b2a39e96f355"
   },
   "outputs": [
    {
     "name": "stdout",
     "output_type": "stream",
     "text": [
      "Przyspieszyłeś, predkość wynosi: 41km/h. Aktualny bieg to: 4\n",
      "Zwolniłeś, predkość wynosi: 29km/h. Aktualny bieg to: 2\n",
      "Zatrzymaj się, aby zmienić bieg.\n",
      "Zatrzymałeś się. Aktualna predkosc wynosi: 0km/h. Aktualny bieg to: 1\n",
      "Wrzuciles bieg wsteczny. Aktualny bieg to: -1\n",
      "Przyspieszyłeś, jedziesz na biegu wstecznym, prędkość wynosi 13km/h. Aktualny bieg to: -1\n",
      "Zwoniłeś, jedziesz na biegu wstecznym, prędkość wynosi 0km/h. Aktualny bieg to: -1\n",
      "Wrzuciles bieg 1.\n",
      "Przyspieszyłeś, predkość wynosi: 390km/h. Aktualny bieg to: 5\n"
     ]
    }
   ],
   "source": [
    "class automat:\n",
    "  def __init__(self, bieg = 0, predkosc = 0):\n",
    "    self.bieg = bieg\n",
    "    self.predkosc = predkosc\n",
    "\n",
    "  def zmiana_biegu(self):\n",
    "    if self.predkosc >= 0 and self.predkosc < 20:\n",
    "      self.bieg = 1\n",
    "    elif self.predkosc >= 20 and self.predkosc < 30:\n",
    "      self.bieg = 2\n",
    "    elif self.predkosc >= 30 and self.predkosc < 40:\n",
    "      self.bieg = 3\n",
    "    elif self.predkosc >= 40 and self.predkosc < 50:\n",
    "      self.bieg = 4\n",
    "    else:\n",
    "      self.bieg = 5\n",
    "\n",
    "  def przyspiesz(self, x):\n",
    "    if self.bieg == -1:\n",
    "      self.predkosc += x\n",
    "      return f'Przyspieszyłeś, jedziesz na biegu wstecznym, prędkość wynosi {self.predkosc}km/h.'\n",
    "\n",
    "    else:\n",
    "      self.predkosc += x\n",
    "      self.zmiana_biegu()\n",
    "      return f'Przyspieszyłeś, predkość wynosi: {self.predkosc}km/h.'\n",
    "\n",
    "  def zwolnij(self, x):\n",
    "    if self.bieg == -1:\n",
    "      self.predkosc -= x\n",
    "      if self.predkosc < 0:\n",
    "        self.predkosc = 0\n",
    "      return f'Zwoniłeś, jedziesz na biegu wstecznym, prędkość wynosi {self.predkosc}km/h.'\n",
    "\n",
    "    else:\n",
    "      self.predkosc -= x\n",
    "      self.zmiana_biegu()\n",
    "\n",
    "    if self.predkosc < 0:\n",
    "      self.predkosc = 0\n",
    "      self.zmiana_biegu()\n",
    "      return f'Zatrzymałeś się.'\n",
    "    elif self.predkosc == 0:\n",
    "      return f'Nie mozna juz zwolnić.'\n",
    "    \n",
    "\n",
    "    return f'Zwolniłeś, predkość wynosi: {self.predkosc}km/h.'\n",
    "\n",
    "  def wsteczny(self):\n",
    "    if self.predkosc == 0:\n",
    "      if self.bieg != -1:\n",
    "        self.bieg = -1\n",
    "        return f'Wrzuciles bieg wsteczny.'\n",
    "      else:\n",
    "        self.bieg = 1\n",
    "        return f'Wrzuciles bieg 1.'\n",
    "    \n",
    "    else:\n",
    "      return f'Zatrzymaj się, aby zmienić bieg.'\n",
    "\n",
    "  def get_predkosc(self):\n",
    "    return f'Aktualna predkosc wynosi: {self.predkosc}km/h.'\n",
    "  \n",
    "  def get_bieg(self):\n",
    "    return f'Aktualny bieg to: {self.bieg}'\n",
    "\n",
    "  def set_predkosc(self, x):\n",
    "    self.predkosc = x\n",
    "    return f'Zmieniono predkość na: {self.predkosc}km/h.'\n",
    "\n",
    "# print(automat(2,25).przyspiesz(20)\n",
    "b = automat()\n",
    "print(b.przyspiesz(41),b.get_bieg())\n",
    "print(b.zwolnij(12),b.get_bieg())\n",
    "print(b.wsteczny())\n",
    "print(b.zwolnij(50),b.get_predkosc(),b.get_bieg())\n",
    "print(b.wsteczny(),b.get_bieg())\n",
    "print(b.przyspiesz(13),b.get_bieg())\n",
    "print(b.zwolnij(30),b.get_bieg())\n",
    "print(b.wsteczny())\n",
    "print(b.przyspiesz(390),b.get_bieg())"
   ]
  },
  {
   "cell_type": "code",
   "execution_count": 3,
   "metadata": {
    "colab": {
     "base_uri": "https://localhost:8080/"
    },
    "id": "mfX4LVm3qUrh",
    "outputId": "fdfc127e-bd82-4c6e-fa2b-5d1387245257"
   },
   "outputs": [
    {
     "name": "stdout",
     "output_type": "stream",
     "text": [
      "Przyspieszyłeś, predkość wynosi: 20km/h.\n",
      "Aktualna predkosc wynosi: 20km/h.\n",
      "Aktualny bieg to: 2\n",
      "Przyspieszyłeś, predkość wynosi: 140km/h. Aktualny bieg to: 5\n",
      "Zatrzymałeś się.\n",
      "Aktualna predkosc wynosi: 0km/h. Aktualny bieg to: 1\n",
      "Wrzuciles bieg wsteczny.\n",
      "Przyspieszyłeś, jedziesz na biegu wstecznym, prędkość wynosi 20km/h.\n",
      "Zatrzymaj się, aby zmienić bieg.\n",
      "Zwoniłeś, jedziesz na biegu wstecznym, prędkość wynosi 0km/h.\n",
      "Wrzuciles bieg 1.\n",
      "Przyspieszyłeś, predkość wynosi: 50km/h.\n"
     ]
    }
   ],
   "source": [
    " c = automat()\n",
    " print(c.przyspiesz(20))\n",
    " print(c.get_predkosc())\n",
    " print(c.get_bieg())\n",
    " print(c.przyspiesz(120), c.get_bieg())\n",
    " print(c.zwolnij(150))\n",
    " print(c.get_predkosc(),c.get_bieg())\n",
    " print(c.wsteczny())\n",
    " print(c.przyspiesz(20))\n",
    " print(c.wsteczny())\n",
    " print(c.zwolnij(50))\n",
    " print(c.wsteczny())\n",
    " print(c.przyspiesz(50))\n",
    " "
   ]
  },
  {
   "cell_type": "code",
   "execution_count": null,
   "metadata": {
    "id": "67HsidE9N6WJ"
   },
   "outputs": [],
   "source": []
  }
 ],
 "metadata": {
  "colab": {
   "collapsed_sections": [],
   "name": "IS_2020_AiP_PD5_nazwisko_imie(2).ipynb",
   "provenance": []
  },
  "kernelspec": {
   "display_name": "Python 3 (ipykernel)",
   "language": "python",
   "name": "python3"
  },
  "language_info": {
   "codemirror_mode": {
    "name": "ipython",
    "version": 3
   },
   "file_extension": ".py",
   "mimetype": "text/x-python",
   "name": "python",
   "nbconvert_exporter": "python",
   "pygments_lexer": "ipython3",
   "version": "3.9.5"
  }
 },
 "nbformat": 4,
 "nbformat_minor": 1
}
