{
 "cells": [
  {
   "cell_type": "markdown",
   "metadata": {
    "id": "yqRVFN4UX67T"
   },
   "source": [
    "## IS 2020 Algorytmy i programowanie\n",
    "### Praca domowa 6 [100 pkt]\n",
    "\n",
    "### Programowanie obiektowe - dziedziczenie"
   ]
  },
  {
   "cell_type": "markdown",
   "metadata": {
    "id": "VgxKg4moX67X"
   },
   "source": [
    "### Zadanie 1 Generator docstringa w stylu Pydoc/Sphinx [20]\n",
    "Napisz funkcję generującą docstring w typie Pydoc/Sphinx, bazując na definicji funkcji `__init__`. Funkcja powinna pobierać zestaw parametrów w postaci słownika\n",
    "\n",
    "    {'Args': None, 'Returns': None, 'Raises': None, 'Attributes': None, 'Summary': None, 'Description': None}\n",
    "\n",
    "i generować poprawny docstring (w odpowiedniej kolejności)."
   ]
  },
  {
   "cell_type": "code",
   "execution_count": 19,
   "metadata": {},
   "outputs": [
    {
     "name": "stdout",
     "output_type": "stream",
     "text": [
      "\"\"\"Docstring \n",
      " \n",
      " \n",
      "Argumenty:Argumenty typu: <class 'str'>\n",
      "Wyniki:Returnstypu: <class 'str'>\n",
      "Raises:Raisestypu: <class 'str'>\n",
      "Atrybuty:Attributestypu: <class 'str'>\n",
      "Summary:Summarytypu: <class 'str'>\n",
      "Description:Descriptiontypu: <class 'str'>\n",
      "Funkcja docstring pobiera dane ze słownika, następnie zapisuje je i na ich podstawie generuje docstring taki, \n",
      "jaki właśnie widzimy.\"\"\"\n",
      "\"\"\"Docstring \n",
      " \n",
      " \n",
      "Argumenty:None typu: <class 'NoneType'>\n",
      "Wyniki:Nonetypu: <class 'NoneType'>\n",
      "Raises:(None, 1, 2)typu: <class 'tuple'>\n",
      "Atrybuty:Nonetypu: <class 'NoneType'>\n",
      "Summary:Nonetypu: <class 'NoneType'>\n",
      "Description:Nonetypu: <class 'NoneType'>\n",
      "Funkcja docstring pobiera dane ze słownika, następnie zapisuje je i na ich podstawie generuje docstring taki, \n",
      "jaki właśnie widzimy.\"\"\"\n"
     ]
    }
   ],
   "source": [
    "slownik={'Args': None, 'Returns': None, 'Raises': (None,1,2), 'Attributes': None, 'Summary': None, 'Description': None}\n",
    "class Docstring:\n",
    "    def __init__(self,Args=None,Returns=None,Raises=None,Attributes=None,Summary=None,Description=None):\n",
    "        self.Args=Args\n",
    "        self.Returns=Returns\n",
    "        self.Raises=Raises\n",
    "        self.Attributes=Attributes\n",
    "        self.Summary=Summary\n",
    "        self.Description=Description\n",
    "    def pobierz(self,slownik):\n",
    "        for i in slownik:\n",
    "            if i==\"Args\":\n",
    "                self.Args=slownik[i]\n",
    "            elif i==\"Returns\":\n",
    "                self.Returns=slownik[i]\n",
    "            elif i==\"Raises\":\n",
    "                self.Raises=slownik[i]\n",
    "            elif i==\"Attributes\":\n",
    "                self.Attributes=slownik[i]\n",
    "            elif i==\"Summary\":\n",
    "                self.Summary=slownik[i]\n",
    "            elif i==\"Description\":\n",
    "                self.Description=slownik[i]\n",
    "        return f'\"\"\"Docstring \\n \\n \\nArgumenty:{self.Args} typu: {type(self.Args)}\\nWyniki:{self.Returns}typu: {type(self.Returns)}\\nRaises:{self.Raises}typu: {type(self.Raises)}\\nAtrybuty:{self.Attributes}typu: {type(self.Attributes)}\\nSummary:{self.Summary}typu: {type(self.Summary)}\\nDescription:{self.Description}typu: {type(self.Description)}\\nFunkcja docstring pobiera dane ze słownika, następnie zapisuje je i na ich podstawie generuje docstring taki, \\njaki właśnie widzimy.\"\"\"'\n",
    "\n",
    "\n",
    "slownik2={'Args': \"Argumenty\", 'Returns': \"Returns\", 'Raises': \"Raises\", 'Attributes': \"Attributes\",'Summary': \"Summary\", 'Description': \"Description\"}\n",
    "s=Docstring()\n",
    "print(s.pobierz(slownik2))\n",
    "print(s.pobierz(slownik))\n",
    "# print(s.Args)\n",
    "# print(s.Returns)\n",
    "# print(s.Raises)"
   ]
  },
  {
   "cell_type": "markdown",
   "metadata": {
    "id": "NH2kEKTsX67Y"
   },
   "source": [
    "### Zadanie 2 [40]\n",
    "Zaimplemetuj klasy pojazd, łódź i amfibia(łódź, pojazd). \n",
    "Zastosuj notki dokument\n",
    "Funkcjonalność:\n",
    "    - przyspiesz, zwolnij,\n",
    "    - stan paliwa\n",
    "    - dodaj własną  dowolną funkcjonalnośc w klasie"
   ]
  },
  {
   "cell_type": "code",
   "execution_count": 6,
   "metadata": {},
   "outputs": [
    {
     "name": "stdout",
     "output_type": "stream",
     "text": [
      " Stan paliwa : 15L , predkosc : 0 KM/h\n",
      "Przyspieszyles, predkosc wynosi : 6 KM/h\n",
      "Zwolniles, predkosc wynosi : 1 KM/h\n",
      "Nieodpowiednia predkosc do rozlozenia zagli\n",
      "Opony zalozone\n"
     ]
    }
   ],
   "source": [
    "class Pojazd:\n",
    "    def __init__(self, typ = \"brak\", paliwo = 10, predkosc = 0):\n",
    "        self.typ = typ\n",
    "        self.paliwo = paliwo\n",
    "        self.predkosc = predkosc\n",
    "    def stan(self):\n",
    "        if self.paliwo > 0:\n",
    "            return f\" Stan paliwa : {self.paliwo}L , predkosc : {self.predkosc} KM/h\"\n",
    "        else:\n",
    "            return \"Brak paliwa\"\n",
    "    def przyspiesz(self,x = 1):\n",
    "        self.predkosc += x\n",
    "        return f\"Przyspieszyles, predkosc wynosi : {self.predkosc} KM/h\"\n",
    "    def zwolnij(self,x = 1):\n",
    "        if self.predkosc-x < 0:\n",
    "            return \"Nie można już zwolnić\"\n",
    "        else:\n",
    "            self.predkosc -= x\n",
    "            return f\"Zwolniles, predkosc wynosi : {self.predkosc} KM/h\"\n",
    "class Lodz(Pojazd):\n",
    "    def __init__(self, typ, paliwo, predkosc, model = \"brak\"):\n",
    "        super().__init__(typ, paliwo, predkosc)\n",
    "        self.model = model\n",
    "    def zagle(self):\n",
    "        while self.predkosc > 5 and self.predkosc < 10:\n",
    "            self.predkosc += 10\n",
    "            return f\"Rozlozono zagle, predkosc wynosi {self.predkosc} KM/h\"\n",
    "        else:\n",
    "            return \"Nieodpowiednia predkosc do rozlozenia zagli\"\n",
    "class Amfibia(Lodz):\n",
    "    def __init__(self, typ, paliwo, predkosc, model, opony = True):\n",
    "        super().__init__(typ, paliwo, predkosc, model)\n",
    "        self.opony = opony\n",
    "    def sprawdz_opony(self):\n",
    "        if self.opony == True:\n",
    "            return \"Opony zalozone\"\n",
    "        else:\n",
    "            return \"Brak opon\"\n",
    "amfibia1 = Amfibia(\"łódź\",15,0,\"wyscigowa\",True)\n",
    "print(amfibia1.stan())\n",
    "print(amfibia1.przyspiesz(6))\n",
    "print(amfibia1.zwolnij(5))\n",
    "print(amfibia1.zagle())\n",
    "print(amfibia1.sprawdz_opony())"
   ]
  },
  {
   "cell_type": "markdown",
   "metadata": {
    "id": "TjUDDkh_X67Y"
   },
   "source": [
    "### Zadanie 3 [40]\n",
    "Zaproponuj własną klasę oraz klasę po niej dziedziczącą. Zastosuj metodę super."
   ]
  },
  {
   "cell_type": "code",
   "execution_count": 4,
   "metadata": {
    "id": "XdL4JENZX67Z"
   },
   "outputs": [
    {
     "name": "stdout",
     "output_type": "stream",
     "text": [
      "podaj pin2222\n",
      "Nie spelniles wymagań do uzyskania bonusu\n",
      "podaj pin2222\n",
      "wplacono: 500 zl\n",
      "podaj pin2222\n",
      "podaj nowy pin1234\n",
      "podaj pin1234\n",
      "Twoja bonusowa gotówka wynosi: 10\n"
     ]
    }
   ],
   "source": [
    "class Adres:\n",
    "    def __init__(self, ulica, nr_domu, miasto,):\n",
    "        self.ulica = ulica\n",
    "        self.nr_domu = nr_domu\n",
    "        self.miasto = miasto\n",
    "    def wypisz(self):\n",
    "        print('Adres:' ,self.ulica,self.nr_domu)\n",
    "        print('Miasto:',self.miasto)\n",
    "        \n",
    "class Konto():\n",
    "    def __init__(self,adres,pin,saldo):\n",
    "        self.adres = adres\n",
    "        self.pin = pin\n",
    "        self.saldo = saldo\n",
    "        \n",
    "    def wyplac(self,kwota):\n",
    "        x=int(input(\"podaj pin\"))\n",
    "        if x==self.pin:\n",
    "            if self.saldo - kwota >=0:\n",
    "                self.saldo = self.saldo-kwota\n",
    "                print(f'wyplacono: {kwota} zl')\n",
    "            else:\n",
    "                return ' brak srodkow na koncie '\n",
    "        else:\n",
    "            return ' bledny pin'\n",
    "    def wplac(self,kwota):\n",
    "        x=int(input(\"podaj pin\"))\n",
    "        if x==self.pin:\n",
    "            self.saldo = self.saldo+kwota\n",
    "            print(f'wplacono: {kwota} zl')\n",
    "        else:\n",
    "            return ' bledny pin'\n",
    "    def stan(self):\n",
    "        x=int(input(\"podaj pin\"))\n",
    "        if x==self.pin:\n",
    "            return f'stan konta wynosi: {self.saldo}'\n",
    "        else:\n",
    "            return ' bledny pin'\n",
    "    def change_pin(self):\n",
    "        x=int(input(\"podaj pin\"))\n",
    "        if x ==self.pin:\n",
    "            y=int(input(\"podaj nowy pin\"))\n",
    "            self.pin = y\n",
    "            return \"zmieniono pin\"\n",
    "        else:\n",
    "            return \"bledny pin\"\n",
    "        \n",
    "\n",
    "class KontoM(Konto):\n",
    "    def __init__(self, adres, pin, saldo, bonus):\n",
    "        super().__init__(adres,pin,saldo)\n",
    "        self.bonus = bonus\n",
    "    def mlodziez(self):\n",
    "        x=int(input(\"podaj pin\"))\n",
    "        if x==self.pin:\n",
    "            if self.saldo > 500:\n",
    "                self.bonus += 10\n",
    "                print(\"Twoja bonusowa gotówka wynosi:\", self.bonus)\n",
    "            else:\n",
    "                print(\"Nie spelniles wymagań do uzyskania bonusu\")\n",
    "        else:\n",
    "            return \"bledny pin\"\n",
    "        \n",
    "class KontoP(Konto):\n",
    "    def __init__(self,adres,pin,saldo,karta):\n",
    "        super().__init__(adres,pin,saldo)\n",
    "        self.karta = karta\n",
    "    def premium(self):\n",
    "        x=int(input(\"podaj pin\"))\n",
    "        if x==self.pin:\n",
    "            if self.karta == \"zlota\":\n",
    "                return \"Juz posiadasz zlota karte\"\n",
    "            else:\n",
    "                return \"Niebawem przyślemy złotą kartę\"\n",
    "        else:\n",
    "            return \"bledny pin\"\n",
    "        \n",
    "adres1 = Adres(\"Długa\",\"10\",\"Katowice\")\n",
    "konto1 = Konto(adres1, 1111, 500)\n",
    "Konto2 = KontoM(adres1, 2222, 100, 0)\n",
    "konto3 = KontoP(adres1, 3333, 500, \"zlota\")\n",
    "\n",
    "\n",
    "Konto2.mlodziez()\n",
    "Konto2.wplac(500)\n",
    "Konto2.change_pin()\n",
    "Konto2.mlodziez()\n"
   ]
  },
  {
   "cell_type": "code",
   "execution_count": null,
   "metadata": {},
   "outputs": [],
   "source": []
  },
  {
   "cell_type": "code",
   "execution_count": null,
   "metadata": {},
   "outputs": [],
   "source": []
  }
 ],
 "metadata": {
  "colab": {
   "name": "IS_2020_AiP_PD6_nazwisko_imie(1) (1).ipynb",
   "provenance": []
  },
  "kernelspec": {
   "display_name": "Python 3 (ipykernel)",
   "language": "python",
   "name": "python3"
  },
  "language_info": {
   "codemirror_mode": {
    "name": "ipython",
    "version": 3
   },
   "file_extension": ".py",
   "mimetype": "text/x-python",
   "name": "python",
   "nbconvert_exporter": "python",
   "pygments_lexer": "ipython3",
   "version": "3.9.5"
  }
 },
 "nbformat": 4,
 "nbformat_minor": 1
}
